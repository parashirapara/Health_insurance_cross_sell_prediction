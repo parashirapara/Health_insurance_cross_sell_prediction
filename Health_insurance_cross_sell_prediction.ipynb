{
  "nbformat": 4,
  "nbformat_minor": 0,
  "metadata": {
    "colab": {
      "private_outputs": true,
      "provenance": [],
      "collapsed_sections": [
        "mDgbUHAGgjLW",
        "gIfDvo9L0UH2"
      ]
    },
    "kernelspec": {
      "name": "python3",
      "display_name": "Python 3"
    },
    "language_info": {
      "name": "python"
    }
  },
  "cells": [
    {
      "cell_type": "markdown",
      "source": [
        "# **Project Name**    - Health insurance cross sell prediction\n",
        "\n"
      ],
      "metadata": {
        "id": "vncDsAP0Gaoa"
      }
    },
    {
      "cell_type": "markdown",
      "source": [
        "##### **Project Type**    - Classification\n",
        "\n",
        "# **Hirapara Paras**\n"
      ],
      "metadata": {
        "id": "beRrZCGUAJYm"
      }
    },
    {
      "cell_type": "markdown",
      "source": [
        "# **Project Summary -**"
      ],
      "metadata": {
        "id": "FJNUwmbgGyua"
      }
    },
    {
      "cell_type": "markdown",
      "source": [
        "In order to construct a model to determine whether the policyholders (customers) from the previous year will also be interested in the firm's vehicle insurance, our client, an insurance company, needs assistance. This insurance company has previously offered Health Insurance to its customers.\n",
        "\n",
        "An insurance policy is a contract whereby a business agrees to guarantee compensation in the event of a specific loss, damage, disease, or death in exchange for the payment of a predetermined premium. The amount of money that the customer must consistently pay to an insurance provider in exchange for this assurance is known as a premium.\n",
        "\n",
        "If you, God forbid, become ill and need to be hospitalized in that year, the insurance provider firm will cover the cost of hospitalization and other expenses up to Rs. 200,000 if you pay a premium of Rs. 5000 annually for a health insurance cover of Rs. 200,000/-. The idea of probabilities enters the scene when you ask how a corporation can afford such large hospitalization costs when it only charges a premium of Rs. 5000. For instance, 100 clients may pay a premium of Rs. 5000 annually, just like you, but only some of them—not all—would end up in the hospital that year.\n",
        "\n"
      ],
      "metadata": {
        "id": "F6v_1wHtG2nS"
      }
    },
    {
      "cell_type": "markdown",
      "source": [
        "# **GitHub Link -**"
      ],
      "metadata": {
        "id": "w6K7xa23Elo4"
      }
    },
    {
      "cell_type": "markdown",
      "source": [
        "https://github.com/parashirapara?tab=repositories"
      ],
      "metadata": {
        "id": "h1o69JH3Eqqn"
      }
    },
    {
      "cell_type": "markdown",
      "source": [
        "# **Problem Statement**\n"
      ],
      "metadata": {
        "id": "yQaldy8SH6Dl"
      }
    },
    {
      "cell_type": "markdown",
      "source": [
        "Building a model to forecast a customer's interest in Vehicle Insurance is very beneficial for the business because it allows it to design its communication strategy to reach out to those clients in the most effective way possible and maximize its business model and revenue.\n",
        "\n",
        "Now that you have information about demographics (gender, age, region code type), vehicles (vehicle age, damage), policies (premium, sourcing channel), etc., you can anticipate whether a consumer would be interested in vehicle insurance.\n",
        "\n",
        "We need to building a model to predict whether a customer would be interested in Vehicle Insurance is extremely helpful for the company because it can then accordingly plan its communication strategy to reach out to those customers and optimise its business model and revenue. Now, we need to predict whether the customer would be interested in Vehicle insurance or not."
      ],
      "metadata": {
        "id": "DpeJGUA3kjGy"
      }
    },
    {
      "cell_type": "markdown",
      "source": [
        "# **General Guidelines** : -  "
      ],
      "metadata": {
        "id": "mDgbUHAGgjLW"
      }
    },
    {
      "cell_type": "markdown",
      "source": [
        "1.   Well-structured, formatted, and commented code is required.\n",
        "2.   Exception Handling, Production Grade Code & Deployment Ready Code will be a plus. Those students will be awarded some additional credits.\n",
        "     \n",
        "     The additional credits will have advantages over other students during Star Student selection.\n",
        "       \n",
        "             [ Note: - Deployment Ready Code is defined as, the whole .ipynb notebook should be executable in one go\n",
        "                       without a single error logged. ]\n",
        "\n",
        "3.   Each and every logic should have proper comments.\n",
        "4. You may add as many number of charts you want. Make Sure for each and every chart the following format should be answered.\n",
        "        \n",
        "\n",
        "```\n",
        "# Chart visualization code\n",
        "```\n",
        "            \n",
        "\n",
        "*   Why did you pick the specific chart?\n",
        "*   What is/are the insight(s) found from the chart?\n",
        "* Will the gained insights help creating a positive business impact?\n",
        "Are there any insights that lead to negative growth? Justify with specific reason.\n",
        "\n",
        "5. You have to create at least 15 logical & meaningful charts having important insights.\n",
        "\n",
        "\n",
        "[ Hints : - Do the Vizualization in  a structured way while following \"UBM\" Rule.\n",
        "\n",
        "U - Univariate Analysis,\n",
        "\n",
        "B - Bivariate Analysis (Numerical - Categorical, Numerical - Numerical, Categorical - Categorical)\n",
        "\n",
        "M - Multivariate Analysis\n",
        " ]\n",
        "\n",
        "\n",
        "\n",
        "\n",
        "\n",
        "6. You may add more ml algorithms for model creation. Make sure for each and every algorithm, the following format should be answered.\n",
        "\n",
        "\n",
        "*   Explain the ML Model used and it's performance using Evaluation metric Score Chart.\n",
        "\n",
        "\n",
        "*   Cross- Validation & Hyperparameter Tuning\n",
        "\n",
        "*   Have you seen any improvement? Note down the improvement with updates Evaluation metric Score Chart.\n",
        "\n",
        "*   Explain each evaluation metric's indication towards business and the business impact pf the ML model used.\n",
        "\n",
        "\n",
        "\n",
        "\n",
        "\n",
        "\n",
        "\n",
        "\n",
        "\n",
        "\n",
        "\n",
        "\n",
        "\n",
        "\n",
        "\n",
        "\n",
        "\n",
        "\n"
      ],
      "metadata": {
        "id": "ZrxVaUj-hHfC"
      }
    },
    {
      "cell_type": "markdown",
      "source": [
        "# ***Let's Begin !***"
      ],
      "metadata": {
        "id": "O_i_v8NEhb9l"
      }
    },
    {
      "cell_type": "markdown",
      "source": [
        "## ***1. Know Your Data***"
      ],
      "metadata": {
        "id": "HhfV-JJviCcP"
      }
    },
    {
      "cell_type": "markdown",
      "source": [
        "### Import Libraries"
      ],
      "metadata": {
        "id": "Y3lxredqlCYt"
      }
    },
    {
      "cell_type": "code",
      "source": [
        "# Import Libraries\n",
        "\n",
        "import numpy as np\n",
        "import pandas as pd\n",
        "from numpy import math\n",
        "from scipy import stats\n",
        "import missingno as msno\n",
        "from scipy.stats import norm\n",
        "import matplotlib.pyplot as plt\n",
        "import seaborn as sns\n",
        "from statsmodels.stats.outliers_influence import variance_inflation_factor\n",
        "from sklearn.model_selection import train_test_split\n",
        "from imblearn.over_sampling import SMOTE\n",
        "from collections import Counter\n",
        "from sklearn.linear_model import LogisticRegression\n",
        "from sklearn.metrics import confusion_matrix\n",
        "from imblearn.over_sampling import RandomOverSampler\n",
        "from sklearn.metrics import accuracy_score\n",
        "from sklearn.metrics import precision_score\n",
        "from sklearn.metrics import recall_score\n",
        "from sklearn.metrics import f1_score\n",
        "from sklearn.metrics import roc_curve\n",
        "from sklearn.metrics import roc_auc_score\n",
        "from sklearn.metrics import classification_report\n",
        "from mlxtend.plotting import plot_confusion_matrix\n",
        "from sklearn.model_selection import RandomizedSearchCV, GridSearchCV\n",
        "from sklearn.tree import DecisionTreeClassifier\n",
        "from sklearn.neighbors import KNeighborsClassifier\n",
        "from sklearn.ensemble import RandomForestClassifier\n",
        "from sklearn.ensemble import GradientBoostingClassifier\n",
        "from xgboost import XGBClassifier"
      ],
      "metadata": {
        "id": "M8Vqi-pPk-HR"
      },
      "execution_count": null,
      "outputs": []
    },
    {
      "cell_type": "markdown",
      "source": [
        "### Dataset Loading"
      ],
      "metadata": {
        "id": "3RnN4peoiCZX"
      }
    },
    {
      "cell_type": "code",
      "source": [
        "# Load Drive\n",
        "from google.colab import drive\n",
        "drive.mount('/content/drive')"
      ],
      "metadata": {
        "id": "4CkvbW_SlZ_R"
      },
      "execution_count": null,
      "outputs": []
    },
    {
      "cell_type": "code",
      "source": [
        "# Loading the dataset\n",
        "\n",
        "file_path = '/content/drive/MyDrive/Data Science/Capston Project/Health insurance cross sell prediction/HEALTH INSURANCE CROSS SELL PREDICTION.csv'\n",
        "data = pd.read_csv(file_path)"
      ],
      "metadata": {
        "id": "CQK9Mbhh7fwh"
      },
      "execution_count": null,
      "outputs": []
    },
    {
      "cell_type": "markdown",
      "source": [
        "### Dataset First View"
      ],
      "metadata": {
        "id": "x71ZqKXriCWQ"
      }
    },
    {
      "cell_type": "code",
      "source": [
        "# Dataset First Look\n",
        "\n",
        "data.head()"
      ],
      "metadata": {
        "id": "LWNFOSvLl09H"
      },
      "execution_count": null,
      "outputs": []
    },
    {
      "cell_type": "markdown",
      "source": [
        "### Dataset Rows & Columns count"
      ],
      "metadata": {
        "id": "7hBIi_osiCS2"
      }
    },
    {
      "cell_type": "code",
      "source": [
        "# Dataset Rows & Columns count\n",
        "\n",
        "print(f'Number of rows : {len(data.axes[0])}')\n",
        "print(f'Number of columns : {len(data.axes[1])}')"
      ],
      "metadata": {
        "id": "Kllu7SJgmLij"
      },
      "execution_count": null,
      "outputs": []
    },
    {
      "cell_type": "markdown",
      "source": [
        "### Dataset Information"
      ],
      "metadata": {
        "id": "JlHwYmJAmNHm"
      }
    },
    {
      "cell_type": "code",
      "source": [
        "# Dataset Info\n",
        "\n",
        "data.info()"
      ],
      "metadata": {
        "id": "e9hRXRi6meOf"
      },
      "execution_count": null,
      "outputs": []
    },
    {
      "cell_type": "markdown",
      "source": [
        "#### Duplicate Values"
      ],
      "metadata": {
        "id": "35m5QtbWiB9F"
      }
    },
    {
      "cell_type": "code",
      "source": [
        "# Dataset Duplicate Value Count\n",
        "\n",
        "data.duplicated().sum()"
      ],
      "metadata": {
        "id": "1sLdpKYkmox0"
      },
      "execution_count": null,
      "outputs": []
    },
    {
      "cell_type": "markdown",
      "source": [
        "#### Missing Values/Null Values"
      ],
      "metadata": {
        "id": "PoPl-ycgm1ru"
      }
    },
    {
      "cell_type": "code",
      "source": [
        "# Missing Values/Null Values Count\n",
        "\n",
        "data.isnull().sum()"
      ],
      "metadata": {
        "id": "GgHWkxvamxVg"
      },
      "execution_count": null,
      "outputs": []
    },
    {
      "cell_type": "code",
      "source": [
        "# visualization of missing values\n",
        "\n",
        "msno.matrix(data,figsize=(7,4), fontsize=12)"
      ],
      "metadata": {
        "id": "kC665uMbnlRK"
      },
      "execution_count": null,
      "outputs": []
    },
    {
      "cell_type": "markdown",
      "source": [
        "### What did you know about your dataset?"
      ],
      "metadata": {
        "id": "H0kj-8xxnORC"
      }
    },
    {
      "cell_type": "markdown",
      "source": [
        "Data set has no any missing values.\n",
        "\n",
        "Data set has 381109 rows and 13 columns.\n",
        "\n",
        "Data set has no any duplicate values."
      ],
      "metadata": {
        "id": "gfoNAAC-nUe_"
      }
    },
    {
      "cell_type": "markdown",
      "source": [
        "## ***2. Understanding Your Variables***"
      ],
      "metadata": {
        "id": "nA9Y7ga8ng1Z"
      }
    },
    {
      "cell_type": "code",
      "source": [
        "# Dataset Columns\n",
        "\n",
        "data.columns"
      ],
      "metadata": {
        "id": "j7xfkqrt5Ag5"
      },
      "execution_count": null,
      "outputs": []
    },
    {
      "cell_type": "code",
      "source": [
        "# Dataset Describe\n",
        "\n",
        "data.describe()"
      ],
      "metadata": {
        "id": "DnOaZdaE5Q5t"
      },
      "execution_count": null,
      "outputs": []
    },
    {
      "cell_type": "markdown",
      "source": [
        "### Variables Description"
      ],
      "metadata": {
        "id": "PBTbrJXOngz2"
      }
    },
    {
      "cell_type": "markdown",
      "source": [
        "id : Unique ID for the customer\n",
        "\n",
        "Gender : Gender of the customer\n",
        "\n",
        "Age : Age of the customer\n",
        "\n",
        "Driving_License 0 : Customer does not have DL, 1 : Customer already has DL\n",
        "\n",
        "Region_Code : Unique code for the region of the customer\n",
        "\n",
        "Previously_Insured : 1 : Customer already has Vehicle Insurance, 0 : Customer doesn't have Vehicle Insurance\n",
        "\n",
        "Vehicle_Age : Age of the Vehicle\n",
        "\n",
        "Vehicle_Damage :1 : Customer got his/her vehicle damaged in the past. 0 : Customer didn't get his/her vehicle damaged in the past.\n",
        "\n",
        "Annual_Premium : The amount customer needs to pay as premium in the year\n",
        "\n",
        "PolicySalesChannel : Anonymized Code for the channel of outreaching to the customer ie. Different Agents, Over Mail, Over Phone, In Person, etc.\n",
        "\n",
        "Vintage : Number of Days, Customer has been associated with the company\n",
        "\n",
        "Response : 1 : Customer is interested, 0 : Customer is not interested"
      ],
      "metadata": {
        "id": "aJV4KIxSnxay"
      }
    },
    {
      "cell_type": "markdown",
      "source": [
        "### Check Unique Values for each variable."
      ],
      "metadata": {
        "id": "u3PMJOP6ngxN"
      }
    },
    {
      "cell_type": "code",
      "source": [
        "data.columns"
      ],
      "metadata": {
        "id": "7VUpj98d-2Jx"
      },
      "execution_count": null,
      "outputs": []
    },
    {
      "cell_type": "code",
      "source": [
        "# categorical_variables\n",
        "\n",
        "categorical_variables = ['id', 'Gender', 'Age', 'Driving_License', 'Region_Code', 'Previously_Insured', 'Vehicle_Age', 'Vehicle_Damage', 'Annual_Premium', 'Policy_Sales_Channel', 'Vintage', 'Response']"
      ],
      "metadata": {
        "id": "Wb5zofuE-xtQ"
      },
      "execution_count": null,
      "outputs": []
    },
    {
      "cell_type": "code",
      "source": [
        "# Check Unique Values for each variable.\n",
        "\n",
        "for i in categorical_variables:\n",
        "  print(f'Unique values for {i} is : {data[i].unique()}')"
      ],
      "metadata": {
        "id": "zms12Yq5n-jE"
      },
      "execution_count": null,
      "outputs": []
    },
    {
      "cell_type": "markdown",
      "source": [
        "## ***4. Data Vizualization, Storytelling & Experimenting with charts : Understand the relationships between variables***"
      ],
      "metadata": {
        "id": "GF8Ens_Soomf"
      }
    },
    {
      "cell_type": "markdown",
      "source": [
        "#### Chart - 1"
      ],
      "metadata": {
        "id": "0wOQAZs5pc--"
      }
    },
    {
      "cell_type": "code",
      "source": [
        "# Chart - 1 Dependent variable 'Response'\n",
        "\n",
        "sns.set(style=\"darkgrid\")\n",
        "plt.figure(figsize=(7,4))\n",
        "total = float(len(data))\n",
        "ax = sns.countplot(x='Response', data=data)\n",
        "plt.title('Response Count', fontsize=20)\n",
        "for p in ax.patches:\n",
        "    percentage = '{:.1f}%'.format(100 * p.get_height()/total)\n",
        "    x = p.get_x() + p.get_width()\n",
        "    y = p.get_height()\n",
        "    ax.annotate(percentage, (x, y),ha='center')\n",
        "plt.show()"
      ],
      "metadata": {
        "id": "7v_ESjsspbW7"
      },
      "execution_count": null,
      "outputs": []
    },
    {
      "cell_type": "markdown",
      "source": [
        "##### 2. What is/are the insight(s) found from the chart?"
      ],
      "metadata": {
        "id": "lQ7QKXXCp7Bj"
      }
    },
    {
      "cell_type": "markdown",
      "source": [
        "Data are not balanced, 87.7% percent peopel are interest and 12.3 percent people are not interest."
      ],
      "metadata": {
        "id": "C_j1G7yiqdRP"
      }
    },
    {
      "cell_type": "markdown",
      "source": [
        "#### Chart - 2"
      ],
      "metadata": {
        "id": "KSlN3yHqYklG"
      }
    },
    {
      "cell_type": "code",
      "source": [
        "# Chart - 2 Distribution of 'Age'\n",
        "\n",
        "plt.figure(figsize=(20,4))\n",
        "sns.set_theme(style='whitegrid')\n",
        "sns.countplot(x=data['Age'],data=data)"
      ],
      "metadata": {
        "id": "R4YgtaqtYklH"
      },
      "execution_count": null,
      "outputs": []
    },
    {
      "cell_type": "markdown",
      "source": [
        "##### 2. What is/are the insight(s) found from the chart?"
      ],
      "metadata": {
        "id": "ijmpgYnKYklI"
      }
    },
    {
      "cell_type": "markdown",
      "source": [
        "Age between 21 to 26 has higher responce compare to other age groups.\n",
        "\n",
        "That indicates young people more interested compare to other one."
      ],
      "metadata": {
        "id": "PSx9atu2YklI"
      }
    },
    {
      "cell_type": "markdown",
      "source": [
        "#### Chart - 3"
      ],
      "metadata": {
        "id": "EM7whBJCYoAo"
      }
    },
    {
      "cell_type": "code",
      "source": [
        "# Chart - 3 Distribution of 'Previously_Insured'\n",
        "\n",
        "plt.figure(figsize=(7,9))\n",
        "plt.pie(data['Previously_Insured'].value_counts(), autopct='%.0f%%', shadow=True, startangle=200, explode=[0.01,0])\n",
        "plt.legend(labels=['Insured','Not insured'])\n",
        "plt.show()"
      ],
      "metadata": {
        "id": "t6GMdE67YoAp"
      },
      "execution_count": null,
      "outputs": []
    },
    {
      "cell_type": "markdown",
      "source": [
        "##### 2. What is/are the insight(s) found from the chart?"
      ],
      "metadata": {
        "id": "85gYPyotYoAp"
      }
    },
    {
      "cell_type": "markdown",
      "source": [
        "Out of total population given in dataset 54 % people are insured and 46 % people is not insured.\n",
        "\n",
        "Not insured people percentage is high compare with whole dataset.\n",
        "\n",
        "That means we need to focus on not insured people and try to find why they are not prefer insurance."
      ],
      "metadata": {
        "id": "4jstXR6OYoAp"
      }
    },
    {
      "cell_type": "markdown",
      "source": [
        "#### Chart - 4"
      ],
      "metadata": {
        "id": "4Of9eVA-YrdM"
      }
    },
    {
      "cell_type": "code",
      "source": [
        "# Chart - 4 visualization code\n",
        "\n",
        "data['Annual_Premium'].hist(figsize=(10,5), bins = 50, density = True, range=[0, 200000])\n",
        "plt.xlabel('Annual_Premium')\n",
        "plt.ylabel('count')\n",
        "plt.show()"
      ],
      "metadata": {
        "id": "irlUoxc8YrdO"
      },
      "execution_count": null,
      "outputs": []
    },
    {
      "cell_type": "code",
      "source": [
        "plt.figure(figsize=(7,4))\n",
        "sns.boxplot(x='Annual_Premium',palette=\"rocket_r\", data=data)"
      ],
      "metadata": {
        "id": "hrXEX0DOM3if"
      },
      "execution_count": null,
      "outputs": []
    },
    {
      "cell_type": "markdown",
      "source": [
        "##### 1. Why did you pick the specific chart?"
      ],
      "metadata": {
        "id": "iky9q4vBYrdO"
      }
    },
    {
      "cell_type": "markdown",
      "source": [
        "From the distribution plot we can infer that the annual premimum variable is right skewed.\n",
        "\n",
        "From the boxplot we can observe lot of outliers in the variable.\n",
        "\n",
        "As we show in chart annual premium higher frequency vary between 0 to 100000 and other premium amount has less frequency.\n",
        "\n",
        "Here, i try to remove outlier with help of lower bound and upper bound values and also try to find inter quntile range of annual premium."
      ],
      "metadata": {
        "id": "aJRCwT6DYrdO"
      }
    },
    {
      "cell_type": "markdown",
      "source": [
        "#### Chart - 5"
      ],
      "metadata": {
        "id": "bamQiAODYuh1"
      }
    },
    {
      "cell_type": "code",
      "source": [
        "# Chart - 5 visualization code for Vehicle_Damage\n",
        "\n",
        "plt.figure(figsize=(9,4))\n",
        "ax2 = sns.countplot(x=data[\"Vehicle_Damage\"])\n",
        "for p in ax2.patches:\n",
        "    percentage = '{:.1f}%'.format(100 * p.get_height()/total)\n",
        "    x = p.get_x() + p.get_width()\n",
        "    y = p.get_height()\n",
        "    ax2.annotate(percentage, (x, y),ha='center')\n",
        "plt.show()"
      ],
      "metadata": {
        "id": "TIJwrbroYuh3"
      },
      "execution_count": null,
      "outputs": []
    },
    {
      "cell_type": "markdown",
      "source": [
        "##### 1. Why did you pick the specific chart?"
      ],
      "metadata": {
        "id": "QHF8YVU7Yuh3"
      }
    },
    {
      "cell_type": "markdown",
      "source": [
        "Based on chart, i found that the there is no significant change between vehicle damage (50.5 %) or not demage (49.5 %)."
      ],
      "metadata": {
        "id": "dcxuIMRPYuh3"
      }
    },
    {
      "cell_type": "markdown",
      "source": [
        "#### Chart - 6"
      ],
      "metadata": {
        "id": "OH-pJp9IphqM"
      }
    },
    {
      "cell_type": "code",
      "source": [
        "# Chart - 6 visualization code for Vehicle_Age\n",
        "\n",
        "plt.figure(figsize=(9,4))\n",
        "ax3 = sns.histplot(data[\"Vehicle_Age\"])\n",
        "plt.show()"
      ],
      "metadata": {
        "id": "kuRf4wtuphqN"
      },
      "execution_count": null,
      "outputs": []
    },
    {
      "cell_type": "markdown",
      "source": [
        "##### 1. Why did you pick the specific chart?"
      ],
      "metadata": {
        "id": "bbFf2-_FphqN"
      }
    },
    {
      "cell_type": "markdown",
      "source": [
        "Higher percentage of vehicles vary between 1 to 2 year age (52.6 %), second highest vehicle age is less than 1 year (43.2 %), and lowest one is more than 2 year (4.2 %)."
      ],
      "metadata": {
        "id": "loh7H2nzphqN"
      }
    },
    {
      "cell_type": "markdown",
      "source": [
        "#### Chart - 7"
      ],
      "metadata": {
        "id": "PIIx-8_IphqN"
      }
    },
    {
      "cell_type": "code",
      "source": [
        "# Chart - 7 visualization code for Gender count\n",
        "\n",
        "plt.figure(figsize=(9,4))\n",
        "ax4 = sns.countplot(x=data[\"Gender\"])\n",
        "for p in ax4.patches:\n",
        "    percentage = '{:.1f}%'.format(100 * p.get_height()/total)\n",
        "    x = p.get_x() + p.get_width()\n",
        "    y = p.get_height()\n",
        "    ax4.annotate(percentage, (x, y),ha='center')\n",
        "plt.show()"
      ],
      "metadata": {
        "id": "lqAIGUfyphqO"
      },
      "execution_count": null,
      "outputs": []
    },
    {
      "cell_type": "markdown",
      "source": [
        "##### 1. Why did you pick the specific chart?"
      ],
      "metadata": {
        "id": "t27r6nlMphqO"
      }
    },
    {
      "cell_type": "markdown",
      "source": [
        "Not much difference between gender count in our dataset. (male has 54.1 % and female is 45.9 %)"
      ],
      "metadata": {
        "id": "iv6ro40sphqO"
      }
    },
    {
      "cell_type": "markdown",
      "source": [
        "#### Chart - 8"
      ],
      "metadata": {
        "id": "BZR9WyysphqO"
      }
    },
    {
      "cell_type": "code",
      "source": [
        "# Chart - 8 visualization code Vehicle_Damage by gender\n",
        "\n",
        "plt.figure(figsize=(17,5))\n",
        "ax5 = sns.countplot(data = data, x = \"Gender\", hue = \"Vehicle_Damage\")\n",
        "for p in ax5.patches:\n",
        "    percentage = '{:.1f}%'.format(100 * p.get_height()/total)\n",
        "    x = p.get_x() + p.get_width()\n",
        "    y = p.get_height()\n",
        "    ax5.annotate(percentage, (x, y),ha='center')\n",
        "plt.show()"
      ],
      "metadata": {
        "id": "TdPTWpAVphqO"
      },
      "execution_count": null,
      "outputs": []
    },
    {
      "cell_type": "markdown",
      "source": [
        "##### 1. Why did you pick the specific chart?"
      ],
      "metadata": {
        "id": "jj7wYXLtphqO"
      }
    },
    {
      "cell_type": "markdown",
      "source": [
        "In male case vehicle damage has 29. % and not demage is 24.5 %, which indicates male has higher damage percentage compare to not demage.\n",
        "\n",
        "In female case vehicle damage has 20.9 % and not demage is 25 %, which indicates female has lower damage percentage compare to not demage."
      ],
      "metadata": {
        "id": "Ob8u6rCTphqO"
      }
    },
    {
      "cell_type": "markdown",
      "source": [
        "#### Chart - 9"
      ],
      "metadata": {
        "id": "YJ55k-q6phqO"
      }
    },
    {
      "cell_type": "code",
      "source": [
        "# Chart - 9 visualization code #Age VS Response\n",
        "\n",
        "plt.figure(figsize=(16,5))\n",
        "sns.countplot(data=data, x='Age',hue='Response', palette='CMRmap_r')\n",
        "plt.xlabel('Age response')\n",
        "plt.ylabel('count')\n",
        "plt.show()"
      ],
      "metadata": {
        "id": "B2aS4O1ophqO"
      },
      "execution_count": null,
      "outputs": []
    },
    {
      "cell_type": "markdown",
      "source": [
        "##### 1. Why did you pick the specific chart?"
      ],
      "metadata": {
        "id": "gCFgpxoyphqP"
      }
    },
    {
      "cell_type": "markdown",
      "source": [
        "People ages between from 31 to 50 are more likely to respond.\n",
        "\n",
        "while Young people below 30 are not interested in vehicle insurance."
      ],
      "metadata": {
        "id": "TVxDimi2phqP"
      }
    },
    {
      "cell_type": "markdown",
      "source": [
        "#### Chart - 10"
      ],
      "metadata": {
        "id": "U2RJ9gkRphqQ"
      }
    },
    {
      "cell_type": "code",
      "source": [
        "# Chart - 10 visualization code\n",
        "\n",
        "plt.figure(figsize=(16,5))\n",
        "ax6 = sns.countplot(data=data, x='Gender',hue='Response', palette='CMRmap_r')\n",
        "for p in ax6.patches:\n",
        "    percentage = '{:.1f}%'.format(100 * p.get_height()/total)\n",
        "    x = p.get_x() + p.get_width()\n",
        "    y = p.get_height()\n",
        "    ax6.annotate(percentage, (x, y),ha='center')\n",
        "plt.show()"
      ],
      "metadata": {
        "id": "GM7a4YP4phqQ"
      },
      "execution_count": null,
      "outputs": []
    },
    {
      "cell_type": "markdown",
      "source": [
        "##### 1. Why did you pick the specific chart?"
      ],
      "metadata": {
        "id": "1M8mcRywphqQ"
      }
    },
    {
      "cell_type": "markdown",
      "source": [
        "Male category is slightly greater (46.6 %) than that of female (41.2 %) and chances of buying the insurance is also little high"
      ],
      "metadata": {
        "id": "8agQvks0phqQ"
      }
    },
    {
      "cell_type": "markdown",
      "source": [
        "#### Chart - 11"
      ],
      "metadata": {
        "id": "x-EpHcCOp1ci"
      }
    },
    {
      "cell_type": "code",
      "source": [
        "# Chart - 11 visualization code\n",
        "\n",
        "plt.figure(figsize = (10,4) )\n",
        "ax7 = sns.countplot(data = data, x = 'Vehicle_Age', hue = 'Response', palette='Dark2_r')\n",
        "plt.xlabel('Vehicle Age', fontsize = 15)\n",
        "plt.ylabel('Count', fontsize = 15)\n",
        "plt.title('Vehicle Age and Customer Response analysis', fontsize = 19)\n",
        "for p in ax7.patches:\n",
        "    percentage = '{:.1f}%'.format(100 * p.get_height()/total)\n",
        "    x = p.get_x() + p.get_width()\n",
        "    y = p.get_height()\n",
        "    ax7.annotate(percentage, (x, y),ha='center')\n",
        "plt.show()"
      ],
      "metadata": {
        "id": "mAQTIvtqp1cj"
      },
      "execution_count": null,
      "outputs": []
    },
    {
      "cell_type": "markdown",
      "source": [
        "##### 1. Why did you pick the specific chart?"
      ],
      "metadata": {
        "id": "X_VqEhTip1ck"
      }
    },
    {
      "cell_type": "markdown",
      "source": [
        "Customers with vechicle age 1-2 years are more likely to interested as compared to the other two\n",
        "\n",
        "Customers with with Vehicle_Age <1 years have very less chance of buying Insurance"
      ],
      "metadata": {
        "id": "-vsMzt_np1ck"
      }
    },
    {
      "cell_type": "markdown",
      "source": [
        "#### Chart - 12 - Correlation Heatmap"
      ],
      "metadata": {
        "id": "NC_X3p0fY2L0"
      }
    },
    {
      "cell_type": "code",
      "source": [
        "# Correlation Heatmap visualization code\n",
        "\n",
        "plt.figure(figsize = (20, 8))\n",
        "sns.heatmap(data.corr(), annot = True)"
      ],
      "metadata": {
        "id": "xyC9zolEZNRQ"
      },
      "execution_count": null,
      "outputs": []
    },
    {
      "cell_type": "markdown",
      "source": [
        "##### 2. What is/are the insight(s) found from the chart?"
      ],
      "metadata": {
        "id": "YPEH6qLeZNRQ"
      }
    },
    {
      "cell_type": "markdown",
      "source": [
        "Based on heat map, i observed that there is no any multi colinearity between variables.\n",
        "\n",
        "policy_sales_channel and age has a negativly colinear.\n",
        "\n",
        "Target variable is not much affected by Vintage variable. we can drop least correlated variable."
      ],
      "metadata": {
        "id": "bfSqtnDqZNRR"
      }
    },
    {
      "cell_type": "markdown",
      "source": [
        "#### Chart - 15 - Pair Plot"
      ],
      "metadata": {
        "id": "q29F0dvdveiT"
      }
    },
    {
      "cell_type": "code",
      "source": [
        "df = ['Gender', 'Age', 'Vehicle_Age', 'Annual_Premium','Response', 'Policy_Sales_Channel']"
      ],
      "metadata": {
        "id": "OuP25SkD3PG4"
      },
      "execution_count": null,
      "outputs": []
    },
    {
      "cell_type": "code",
      "source": [
        "# Pair Plot visualization code\n",
        "\n",
        "sns.pairplot(data[df])"
      ],
      "metadata": {
        "id": "o58-TEIhveiU"
      },
      "execution_count": null,
      "outputs": []
    },
    {
      "cell_type": "markdown",
      "source": [
        "##### 2. What is/are the insight(s) found from the chart?"
      ],
      "metadata": {
        "id": "22aHeOlLveiV"
      }
    },
    {
      "cell_type": "markdown",
      "source": [
        "It is said that there is no correlation between the variables if the value is zero or very near to it."
      ],
      "metadata": {
        "id": "uPQ8RGwHveiV"
      }
    },
    {
      "cell_type": "code",
      "source": [
        "numeric_features = data.describe().columns\n",
        "numeric_features"
      ],
      "metadata": {
        "id": "v5jmJJxJd65h"
      },
      "execution_count": null,
      "outputs": []
    },
    {
      "cell_type": "code",
      "source": [
        "# plot a bar plot for each numerical feature count (except car_ID)\n",
        "\n",
        "for col in numeric_features[1:]:\n",
        "    fig = plt.figure(figsize=(6, 3))\n",
        "    ax = fig.gca()\n",
        "    feature = data[col]\n",
        "    feature.hist(bins=50, ax = ax)\n",
        "    ax.axvline(feature.mean(), color='magenta', linestyle='dashed', linewidth=2)\n",
        "    ax.axvline(feature.median(), color='cyan', linestyle='dashed', linewidth=2)\n",
        "    ax.set_title(col)\n",
        "plt.show()"
      ],
      "metadata": {
        "id": "y0-jUzq0d--6"
      },
      "execution_count": null,
      "outputs": []
    },
    {
      "cell_type": "code",
      "source": [
        "for col in numeric_features[1:-1]:\n",
        "    fig = plt.figure(figsize=(5, 4))\n",
        "    ax = fig.gca()\n",
        "    feature = data[col]\n",
        "    label = data['Response']\n",
        "    correlation = feature.corr(label)\n",
        "    plt.scatter(x=feature, y=label)\n",
        "    plt.xlabel(col)\n",
        "    plt.ylabel('Price')\n",
        "    ax.set_title('price vs ' + col + '- correlation: ' + str(correlation))\n",
        "    z = np.polyfit(data[col], data['Response'], 1)\n",
        "    y_hat = np.poly1d(z)(data[col])\n",
        "\n",
        "    plt.plot(data[col], y_hat, \"r--\", lw=1)\n",
        "\n",
        "plt.show()"
      ],
      "metadata": {
        "id": "848uSYrNe7P4"
      },
      "execution_count": null,
      "outputs": []
    },
    {
      "cell_type": "markdown",
      "source": [
        "Based on all above analysis, i find that the data is ready to use and has no any colinearity between them."
      ],
      "metadata": {
        "id": "ixYL_pNSf1Oa"
      }
    },
    {
      "cell_type": "code",
      "source": [
        "# Finding Multicollinearity\n",
        "def cal_vif(X):\n",
        "    # Calculating VIF\n",
        "   vif = pd.DataFrame()\n",
        "   vif[\"variables\"] = X.columns\n",
        "   vif[\"VIF\"] = [variance_inflation_factor(X.values, i) for i in range(X.shape[1])]\n",
        "   return(vif)"
      ],
      "metadata": {
        "id": "LoDW-9eQozqC"
      },
      "execution_count": null,
      "outputs": []
    },
    {
      "cell_type": "code",
      "source": [
        "cal_vif(data[[i for i in data.describe().columns if i not in ['Response']]])"
      ],
      "metadata": {
        "id": "Bcc73yLro4CO"
      },
      "execution_count": null,
      "outputs": []
    },
    {
      "cell_type": "code",
      "source": [
        "data.drop(columns=['Driving_License'],axis=1,inplace=True)"
      ],
      "metadata": {
        "id": "nTs_R7bEya55"
      },
      "execution_count": null,
      "outputs": []
    },
    {
      "cell_type": "markdown",
      "source": [
        "Since practically every customer has a driver's license, it is useless to insure anyone without one because it would be detrimental to the business. Hence, we wouldn't provide vehicle insurance to someone who didn't have a license to drive. As we can drop driving license column as they are not providing any valuable information."
      ],
      "metadata": {
        "id": "-buLuRGHyjwG"
      }
    },
    {
      "cell_type": "markdown",
      "source": [
        "## ***5. Hypothesis Testing***"
      ],
      "metadata": {
        "id": "g-ATYxFrGrvw"
      }
    },
    {
      "cell_type": "markdown",
      "source": [
        "### Hypothetical Statement - 1"
      ],
      "metadata": {
        "id": "8yEUt7NnHlrM"
      }
    },
    {
      "cell_type": "markdown",
      "source": [
        "#### 1. State Your research hypothesis as a null hypothesis and alternate hypothesis."
      ],
      "metadata": {
        "id": "tEA2Xm5dHt1r"
      }
    },
    {
      "cell_type": "markdown",
      "source": [
        "Annual_Premium by the customers is less than 30000"
      ],
      "metadata": {
        "id": "HI9ZP0laH0D-"
      }
    },
    {
      "cell_type": "markdown",
      "source": [
        "#### 2. Perform an appropriate statistical test."
      ],
      "metadata": {
        "id": "I79__PHVH19G"
      }
    },
    {
      "cell_type": "code",
      "source": [
        "# extract Annual_Premium column from dataset and try to find shape of the Annual_Premium\n",
        "Annual_Premium = pd.DataFrame(data, columns = ['Annual_Premium'])\n",
        "\n",
        "Annual_Premium.shape"
      ],
      "metadata": {
        "id": "oZrfquKtyian"
      },
      "execution_count": null,
      "outputs": []
    },
    {
      "cell_type": "code",
      "source": [
        "# mean of the sales\n",
        "Annual_Premium.mean()"
      ],
      "metadata": {
        "id": "eO13IQUS-iCs"
      },
      "execution_count": null,
      "outputs": []
    },
    {
      "cell_type": "code",
      "source": [
        "# standard deviation of Annual_Premium\n",
        "Annual_Premium.std()"
      ],
      "metadata": {
        "id": "Z_wiIpXi-mQZ"
      },
      "execution_count": null,
      "outputs": []
    },
    {
      "cell_type": "code",
      "source": [
        "# convert Annual_Premium data into list formate\n",
        "\n",
        "Annual_Premium_list = data[\"Annual_Premium\"].tolist()"
      ],
      "metadata": {
        "id": "7e-xtVb0-wxk"
      },
      "execution_count": null,
      "outputs": []
    },
    {
      "cell_type": "code",
      "source": [
        "# choose random sample from sales dataset (sample size is 1000)\n",
        "\n",
        "import random\n",
        "random_sample = random.sample(Annual_Premium_list, 50000)\n",
        "random_samples = pd.DataFrame(random_sample)"
      ],
      "metadata": {
        "id": "fEFgmKv1-5yU"
      },
      "execution_count": null,
      "outputs": []
    },
    {
      "cell_type": "code",
      "source": [
        "def calculate_z_score(value, random_samples):\n",
        "    mean = random_samples.mean()\n",
        "    std_dev = random_samples.std()\n",
        "    square_root = math.sqrt(len(random_sample))\n",
        "    z_score = (mean - value) / (std_dev / square_root)\n",
        "    return z_score"
      ],
      "metadata": {
        "id": "-O2z3HdQ_AvH"
      },
      "execution_count": null,
      "outputs": []
    },
    {
      "cell_type": "code",
      "source": [
        "Annual_Premium_list = 30000\n",
        "\n",
        "z_score = calculate_z_score(Annual_Premium_list, random_samples)\n",
        "print(\"Z-Score:\", z_score)"
      ],
      "metadata": {
        "id": "2OpoO_Tp_OSU"
      },
      "execution_count": null,
      "outputs": []
    },
    {
      "cell_type": "code",
      "source": [
        "# We can calculate p-value\n",
        "\n",
        "prob_z = norm.cdf(z_score)\n",
        "print(prob_z)"
      ],
      "metadata": {
        "id": "Uudk5xEx_j1R"
      },
      "execution_count": null,
      "outputs": []
    },
    {
      "cell_type": "code",
      "source": [
        "P_value = 1 - prob_z\n",
        "print(P_value)"
      ],
      "metadata": {
        "id": "auFpR0zU_zOk"
      },
      "execution_count": null,
      "outputs": []
    },
    {
      "cell_type": "markdown",
      "source": [
        "Based on hypothesis testing, i infer that,\n",
        "\n",
        "Reject the our null hypothesis."
      ],
      "metadata": {
        "id": "pnwdXO6q0I43"
      }
    },
    {
      "cell_type": "markdown",
      "source": [
        "## ***6. Feature Engineering & Data Pre-processing***"
      ],
      "metadata": {
        "id": "yLjJCtPM0KBk"
      }
    },
    {
      "cell_type": "markdown",
      "source": [
        "### 1. Handling Missing Values"
      ],
      "metadata": {
        "id": "xiyOF9F70UgQ"
      }
    },
    {
      "cell_type": "code",
      "source": [
        "data['Annual_Premium'].hist(figsize=(10,5), bins = 50, density = True, range=[0, 200000])"
      ],
      "metadata": {
        "id": "Zy5On_CDSoBv"
      },
      "execution_count": null,
      "outputs": []
    },
    {
      "cell_type": "markdown",
      "source": [
        "As we saw data set annual premium is right skewed distribution.\n",
        "\n",
        "So, we fill the missing values with help of median function."
      ],
      "metadata": {
        "id": "ELjGOBKrTVib"
      }
    },
    {
      "cell_type": "code",
      "source": [
        "# Handling null values\n",
        "\n",
        "data['Annual_Premium'] = data['Annual_Premium'].fillna(data['Annual_Premium'].median())"
      ],
      "metadata": {
        "id": "XapxRhnos4la"
      },
      "execution_count": null,
      "outputs": []
    },
    {
      "cell_type": "code",
      "source": [
        "data.info()"
      ],
      "metadata": {
        "id": "VQpi20z-s5WR"
      },
      "execution_count": null,
      "outputs": []
    },
    {
      "cell_type": "markdown",
      "source": [
        "Based on that i find that the Age has most positively colinear, and previously insured has most negatively colinear in our data set."
      ],
      "metadata": {
        "id": "hDI-d6OelRoF"
      }
    },
    {
      "cell_type": "markdown",
      "source": [
        "### 2. Handling Outliers"
      ],
      "metadata": {
        "id": "id1riN9m0vUs"
      }
    },
    {
      "cell_type": "code",
      "source": [
        "#outlier column\n",
        "outlier_column=['Annual_Premium']\n",
        "#determining the inter-quartile range for the columns with outliers\n",
        "Q1 = data[outlier_column].quantile(0.25)\n",
        "Q3 = data[outlier_column].quantile(0.75)\n",
        "IQR = Q3-Q1\n",
        "IQR"
      ],
      "metadata": {
        "id": "v4vkX3MlrxPR"
      },
      "execution_count": null,
      "outputs": []
    },
    {
      "cell_type": "code",
      "source": [
        "# determining the upper and lower limit for the removal of outliers\n",
        "upper_limit = Q3 + (1.5*IQR)\n",
        "lower_limit = Q1 - (1.5*IQR)\n",
        "data[outlier_column] = data[outlier_column][~((data[outlier_column] < lower_limit) | (data[outlier_column] > upper_limit))]"
      ],
      "metadata": {
        "id": "qPlwd9klr_B1"
      },
      "execution_count": null,
      "outputs": []
    },
    {
      "cell_type": "markdown",
      "source": [
        "### 3. Categorical Encoding"
      ],
      "metadata": {
        "id": "89xtkJwZ18nB"
      }
    },
    {
      "cell_type": "code",
      "source": [
        "# changing categorical value to numerical values\n",
        "\n",
        "data['Gender'].replace({'Female':1, 'Male':0}, inplace=True)\n",
        "data.head(2)"
      ],
      "metadata": {
        "id": "iRsAHk1K0fpS"
      },
      "execution_count": null,
      "outputs": []
    },
    {
      "cell_type": "code",
      "source": [
        "# similarly for the vehicle age\n",
        "\n",
        "data['Vehicle_Age']= data['Vehicle_Age'].map({'< 1 Year':0,'1-2 Year':1,'> 2 Years':2})\n",
        "data.head(2)"
      ],
      "metadata": {
        "id": "8qjfButj7x32"
      },
      "execution_count": null,
      "outputs": []
    },
    {
      "cell_type": "code",
      "source": [
        "# similarly for the vehicle damage\n",
        "\n",
        "data['Vehicle_Damage']=data['Vehicle_Damage'].map({'Yes':1, 'No':0})\n",
        "data.head(2)"
      ],
      "metadata": {
        "id": "kWapGbr-kle8"
      },
      "execution_count": null,
      "outputs": []
    },
    {
      "cell_type": "code",
      "source": [
        "# try to find correlation with respect to responce\n",
        "\n",
        "correlation = data.corr()\n",
        "correlation['Response'].sort_values(ascending = False)[1:]"
      ],
      "metadata": {
        "id": "4wSahHMnk2KM"
      },
      "execution_count": null,
      "outputs": []
    },
    {
      "cell_type": "markdown",
      "source": [
        "### 8. Data Splitting"
      ],
      "metadata": {
        "id": "BhH2vgX9EjGr"
      }
    },
    {
      "cell_type": "code",
      "source": [
        "# Split your data to train and test. Choose Splitting ratio wisely.\n",
        "x=data[['Gender','Age','Previously_Insured','Vehicle_Age','Vehicle_Damage','Annual_Premium','Vintage']]\n",
        "y=data['Response']"
      ],
      "metadata": {
        "id": "0CTyd2UwEyNM"
      },
      "execution_count": null,
      "outputs": []
    },
    {
      "cell_type": "code",
      "source": [
        "# check for imbalance in data\n",
        "data['Response'].value_counts()"
      ],
      "metadata": {
        "id": "KkfZiGttuE9h"
      },
      "execution_count": null,
      "outputs": []
    },
    {
      "cell_type": "markdown",
      "source": [
        "ML techniques like decision trees and logistic regression show a bias in favour of the majority class and frequently disregard the minority class. Resampling is the method we employ to solve this problem."
      ],
      "metadata": {
        "id": "7umGpaEhuMZ-"
      }
    },
    {
      "cell_type": "code",
      "source": [
        "# Resampling\n",
        "ros = RandomOverSampler(random_state=0)\n",
        "X_new,y_new= ros.fit_resample(x, y)\n",
        "\n",
        "print(\"After Random Over Sampling Of Minor Class Total Samples are :\", len(y_new))\n",
        "print('Original dataset shape {}'.format(Counter(y)))\n",
        "print('Resampled dataset shape {}'.format(Counter(y_new)))"
      ],
      "metadata": {
        "id": "y8j7MUvnufGz"
      },
      "execution_count": null,
      "outputs": []
    },
    {
      "cell_type": "code",
      "source": [
        "X_train, X_test ,y_train, y_test=  train_test_split(X_new, y_new, random_state=42, test_size=0.3)\n",
        "print(X_train.shape, y_train.shape)\n",
        "print (X_test.shape, y_test.shape)"
      ],
      "metadata": {
        "id": "_tQcNInQuvZ2"
      },
      "execution_count": null,
      "outputs": []
    },
    {
      "cell_type": "code",
      "source": [
        "# Normalizing the Dataset using Standard Scaling Technique.\n",
        "from sklearn.preprocessing import StandardScaler\n",
        "scaler=StandardScaler()\n",
        "X_train=scaler.fit_transform(X_train)\n",
        "X_test=scaler.transform(X_test)"
      ],
      "metadata": {
        "id": "uxrJFNcJu5T8"
      },
      "execution_count": null,
      "outputs": []
    },
    {
      "cell_type": "markdown",
      "source": [
        "## ***7. ML Model Implementation***"
      ],
      "metadata": {
        "id": "VfCC591jGiD4"
      }
    },
    {
      "cell_type": "markdown",
      "source": [
        "### ML Model - Logistic Regression"
      ],
      "metadata": {
        "id": "OB4l2ZhMeS1U"
      }
    },
    {
      "cell_type": "code",
      "source": [
        "# ML Model - 1 Implementation Logistic Regression\n",
        "\n",
        "#Importing Logistic Regression\n",
        "logistic_model = LogisticRegression(random_state=30)\n",
        "logistic_model=logistic_model.fit(X_train,y_train)\n",
        "\n",
        "#Making prediction\n",
        "y_pred_lg = logistic_model.predict(X_test)\n",
        "y_pred_prob_lg = logistic_model.predict_proba(X_test)[:,1]"
      ],
      "metadata": {
        "id": "7ebyywQieS1U"
      },
      "execution_count": null,
      "outputs": []
    },
    {
      "cell_type": "code",
      "source": [
        "y_pred_prob_lg"
      ],
      "metadata": {
        "id": "SxfVeqyr9QFN"
      },
      "execution_count": null,
      "outputs": []
    },
    {
      "cell_type": "code",
      "source": [
        "y_pred_lg"
      ],
      "metadata": {
        "id": "hDf4aqRE9SIk"
      },
      "execution_count": null,
      "outputs": []
    },
    {
      "cell_type": "code",
      "source": [
        "# Evaluation\n",
        "RS_lgt= recall_score(y_test, y_pred_lg)\n",
        "print(\"Recall_Score : \", RS_lgt)\n",
        "\n",
        "PS_lgt= precision_score(y_test, y_pred_lg)\n",
        "print(\"Precision_Score :\",PS_lgt)\n",
        "\n",
        "f1S_lgt= f1_score(y_test, y_pred_lg)\n",
        "print(\"f1_Score :\", f1S_lgt)\n",
        "\n",
        "AS_lgt= accuracy_score(y_pred_lg, y_test)\n",
        "print(\"Accuracy_Score :\",AS_lgt)\n",
        "\n",
        "acu_lgt = roc_auc_score(y_pred_lg, y_test)\n",
        "print(\"ROC_AUC Score:\",acu_lgt)"
      ],
      "metadata": {
        "id": "J-zFmFe29iwY"
      },
      "execution_count": null,
      "outputs": []
    },
    {
      "cell_type": "code",
      "source": [
        "#ROC Curve\n",
        "fpr, tpr, _ = roc_curve(y_test, y_pred_prob_lg)\n",
        "plt.title('Logistic Regression ROC curve')\n",
        "plt.xlabel(\"False Positive Rate\")\n",
        "plt.ylabel(\"True Positive Rate\")\n",
        "plt.plot(fpr,tpr)\n",
        "plt.plot((0,1), linestyle=\"--\",color='black')\n",
        "plt.show()"
      ],
      "metadata": {
        "id": "LJb5-Xvf9zlA"
      },
      "execution_count": null,
      "outputs": []
    },
    {
      "cell_type": "code",
      "source": [
        "#confusion matrix\n",
        "cm_logistic = confusion_matrix(y_test, y_pred_lg)\n",
        "print(cm_logistic)\n",
        "\n",
        "# chart vissualization\n",
        "fig, ax = plot_confusion_matrix(conf_mat=cm_logistic, figsize=(3, 3), cmap=plt.cm.Blues)\n",
        "plt.xlabel('Predictions', fontsize=18)\n",
        "plt.ylabel('Actuals', fontsize=18)\n",
        "plt.title('Confusion Matrix', fontsize=18)\n",
        "plt.show()"
      ],
      "metadata": {
        "id": "kAPZG7IK-UML"
      },
      "execution_count": null,
      "outputs": []
    },
    {
      "cell_type": "code",
      "source": [
        "print(classification_report(y_test, y_pred_lg))"
      ],
      "metadata": {
        "id": "ocRNjjU_-ts8"
      },
      "execution_count": null,
      "outputs": []
    },
    {
      "cell_type": "code",
      "source": [
        "# coefficients\n",
        "logistic_model.coef_"
      ],
      "metadata": {
        "id": "a2CgtZOR-0_t"
      },
      "execution_count": null,
      "outputs": []
    },
    {
      "cell_type": "code",
      "source": [
        "coef = pd.Series(data=logistic_model.coef_[0], index=x.columns)\n",
        "coef = coef.sort_values()\n",
        "print(coef)"
      ],
      "metadata": {
        "id": "GRCoZxj_-5GC"
      },
      "execution_count": null,
      "outputs": []
    },
    {
      "cell_type": "code",
      "source": [
        "plt.figure(figsize=(14,6))\n",
        "sns.barplot(x=coef.index, y=coef.values);\n",
        "plt.ylabel(\"Coeficient\")\n",
        "plt.show()"
      ],
      "metadata": {
        "id": "WAYAksk3-_zd"
      },
      "execution_count": null,
      "outputs": []
    },
    {
      "cell_type": "code",
      "source": [
        "# hyperperameter tuning\n",
        "\n",
        "logistic_model_tunning= LogisticRegression()\n",
        "param_logreg = {'C': [1, 0.5, 0.1, 5, 9],'penalty':['l2','l1', 'elasticnet']}\n",
        "l_m_t= GridSearchCV(estimator = logistic_model_tunning, param_grid = param_logreg, cv = 3, n_jobs = -1 , verbose = 1, scoring = 'recall')\n",
        "l_m_t.fit(X_train, y_train)"
      ],
      "metadata": {
        "id": "VPPaHfyu_kZx"
      },
      "execution_count": null,
      "outputs": []
    },
    {
      "cell_type": "code",
      "source": [
        "# fitting the model\n",
        "\n",
        "log_tuned = l_m_t.best_estimator_\n",
        "y_tuned_log = log_tuned.predict(X_test)\n",
        "y_tuned_log_prob=log_tuned.predict_proba(X_test)[:,1]"
      ],
      "metadata": {
        "id": "X3ZaFVmrADbE"
      },
      "execution_count": null,
      "outputs": []
    },
    {
      "cell_type": "code",
      "source": [
        "# Evaluation\n",
        "RS_lgt_tun= recall_score(y_test, y_tuned_log)\n",
        "print(\"Recall_Score : \", RS_lgt_tun)\n",
        "\n",
        "PS_lgt_tun= precision_score(y_test, y_tuned_log)\n",
        "print(\"Precision_Score :\",PS_lgt_tun)\n",
        "\n",
        "f1S_lgt_tun= f1_score(y_test, y_tuned_log)\n",
        "print(\"f1_Score :\", f1S_lgt_tun)\n",
        "\n",
        "AS_lgt_tun= accuracy_score(y_tuned_log, y_test)\n",
        "print(\"Accuracy_Score :\",AS_lgt_tun)\n",
        "\n",
        "acu_lgt_tun = roc_auc_score(y_tuned_log, y_test)\n",
        "print(\"ROC_AUC Score:\",acu_lgt_tun)"
      ],
      "metadata": {
        "id": "GG2YHOdsAtrX"
      },
      "execution_count": null,
      "outputs": []
    },
    {
      "cell_type": "code",
      "source": [
        "#ROC Curve\n",
        "fpr, tpr, _ = roc_curve(y_test, y_tuned_log_prob)\n",
        "plt.title('Logistic Regression ROC curve')\n",
        "plt.xlabel(\"False Positive Rate\")\n",
        "plt.ylabel(\"True Positive Rate\")\n",
        "plt.plot(fpr,tpr)\n",
        "plt.plot((0,1), linestyle=\"--\",color='black')\n",
        "plt.show()"
      ],
      "metadata": {
        "id": "TwUKWIxlAw9m"
      },
      "execution_count": null,
      "outputs": []
    },
    {
      "cell_type": "code",
      "source": [
        "#confusion matrix\n",
        "cm_logistic_tun = confusion_matrix(y_test, y_tuned_log)\n",
        "print(cm_logistic_tun)"
      ],
      "metadata": {
        "id": "Uy3UxncgA3rJ"
      },
      "execution_count": null,
      "outputs": []
    },
    {
      "cell_type": "code",
      "source": [
        "# graphical representation of confusion matrix\n",
        "fig, ax = plot_confusion_matrix(conf_mat=cm_logistic_tun, figsize=(3, 3), cmap=plt.cm.Blues)\n",
        "plt.xlabel('Predictions', fontsize=18)\n",
        "plt.ylabel('Actuals', fontsize=18)\n",
        "plt.title('Confusion Matrix', fontsize=18)\n",
        "plt.show()"
      ],
      "metadata": {
        "id": "QohgXgPdA65j"
      },
      "execution_count": null,
      "outputs": []
    },
    {
      "cell_type": "code",
      "source": [
        "print(classification_report(y_test, y_tuned_log))"
      ],
      "metadata": {
        "id": "Jgc-Ls6zBJN7"
      },
      "execution_count": null,
      "outputs": []
    },
    {
      "cell_type": "markdown",
      "source": [
        "### ML Model - 2"
      ],
      "metadata": {
        "id": "dJ2tPlVmpsJ0"
      }
    },
    {
      "cell_type": "markdown",
      "source": [
        "#### 1. Explain the ML Model used and it's performance using Evaluation metric Score Chart."
      ],
      "metadata": {
        "id": "JWYfwnehpsJ1"
      }
    },
    {
      "cell_type": "code",
      "source": [
        "# Visualizing evaluation Metric Score chart\n",
        "\n",
        "dt_model = DecisionTreeClassifier(random_state=30)\n",
        "dt_model=dt_model.fit(X_train, y_train)\n",
        "\n",
        "#Making prediction\n",
        "dt_pred = dt_model.predict(X_test)\n",
        "dt_pred_prob = dt_model.predict_proba(X_test)[:,1]"
      ],
      "metadata": {
        "id": "yEl-hgQWpsJ1"
      },
      "execution_count": null,
      "outputs": []
    },
    {
      "cell_type": "code",
      "source": [
        "# Evaluation\n",
        "RS_dt= recall_score(y_test, dt_pred)\n",
        "print(\"Recall_Score : \", RS_dt)\n",
        "\n",
        "PS_dt= precision_score(y_test, dt_pred)\n",
        "print(\"Precision_Score :\",PS_dt)\n",
        "\n",
        "f1S_dt= f1_score(y_test, dt_pred)\n",
        "print(\"f1_Score :\", f1S_dt)\n",
        "\n",
        "AS_dt= accuracy_score(y_test, dt_pred)\n",
        "print(\"Accuracy_Score :\",AS_dt)\n",
        "\n",
        "acu_dt = roc_auc_score(y_test, dt_pred)\n",
        "print(\"ROC_AUC Score:\",acu_dt)"
      ],
      "metadata": {
        "id": "zgAUn-9EBtfn"
      },
      "execution_count": null,
      "outputs": []
    },
    {
      "cell_type": "code",
      "source": [
        "#ROC Curve\n",
        "fpr, tpr, _ = roc_curve(y_test, dt_pred_prob)\n",
        "plt.title('Decision Tree ROC curve')\n",
        "plt.xlabel(\"False Positive Rate\")\n",
        "plt.ylabel(\"True Positive Rate\")\n",
        "plt.plot(fpr,tpr)\n",
        "plt.plot((0,1), linestyle=\"--\",color='black')\n",
        "plt.show()"
      ],
      "metadata": {
        "id": "7pcH1B52B1P0"
      },
      "execution_count": null,
      "outputs": []
    },
    {
      "cell_type": "code",
      "source": [
        "#confusion matrix\n",
        "cm_dt= confusion_matrix(y_test, dt_pred)\n",
        "print(cm_dt)"
      ],
      "metadata": {
        "id": "adysRNa6B56r"
      },
      "execution_count": null,
      "outputs": []
    },
    {
      "cell_type": "code",
      "source": [
        "# graphical representation of confusion metrix\n",
        "\n",
        "fig, ax = plot_confusion_matrix(conf_mat=cm_dt, figsize=(3, 3), cmap=plt.cm.Blues)\n",
        "plt.xlabel('Predictions', fontsize=18)\n",
        "plt.ylabel('Actuals', fontsize=18)\n",
        "plt.title('Confusion Matrix', fontsize=18)\n",
        "plt.show()"
      ],
      "metadata": {
        "id": "9aV2FHoQB8Y4"
      },
      "execution_count": null,
      "outputs": []
    },
    {
      "cell_type": "code",
      "source": [
        "print(classification_report(dt_pred, y_test))"
      ],
      "metadata": {
        "id": "HSXpRZCJCH0S"
      },
      "execution_count": null,
      "outputs": []
    },
    {
      "cell_type": "code",
      "source": [
        "# features importance\n",
        "\n",
        "plt.figure(figsize=(14,3))\n",
        "feat_importances = pd.Series(dt_model.feature_importances_, index=X_new.columns)\n",
        "feat_importances.nlargest(5).plot(kind='bar')"
      ],
      "metadata": {
        "id": "-wvIaVCyCLnd"
      },
      "execution_count": null,
      "outputs": []
    },
    {
      "cell_type": "markdown",
      "source": [
        "### ML Model - 3"
      ],
      "metadata": {
        "id": "Fze-IPXLpx6K"
      }
    },
    {
      "cell_type": "code",
      "source": [
        "# ML Model - 3 Implementation Random Forest\n",
        "\n",
        "# Importing Random Forest\n",
        "rf_model= RandomForestClassifier(random_state=30)\n",
        "rf_model= rf_model.fit(X_train, y_train)\n",
        "\n",
        "# Making prediction\n",
        "rf_pred= rf_model.predict(X_test)\n",
        "rf_pred_proba= rf_model.predict_proba(X_test)[:,1]"
      ],
      "metadata": {
        "id": "FFrSXAtrpx6M"
      },
      "execution_count": null,
      "outputs": []
    },
    {
      "cell_type": "code",
      "source": [
        "# Evaluation\n",
        "RS_rf= recall_score(y_test, rf_pred)\n",
        "print(\"Recall_Score : \", RS_lgt)\n",
        "\n",
        "PS_rf= precision_score(y_test, rf_pred)\n",
        "print(\"Precision_Score :\",PS_lgt)\n",
        "\n",
        "f1S_rf= f1_score(y_test, rf_pred)\n",
        "print(\"f1_Score :\", f1S_lgt)\n",
        "\n",
        "AS_rf= accuracy_score(y_test, rf_pred)\n",
        "print(\"Accuracy_Score :\",AS_lgt)\n",
        "\n",
        "acu_rf = roc_auc_score(y_test, rf_pred)\n",
        "print(\"ROC_AUC Score:\",acu_lgt)"
      ],
      "metadata": {
        "id": "C3JhpiLzCtHq"
      },
      "execution_count": null,
      "outputs": []
    },
    {
      "cell_type": "code",
      "source": [
        "#ROC Curve\n",
        "fpr, tpr, _ = roc_curve(y_test, rf_pred_proba)\n",
        "plt.title('Random Forest ROC curve')\n",
        "plt.xlabel(\"False Positive Rate\")\n",
        "plt.ylabel(\"True Positive Rate\")\n",
        "plt.plot(fpr,tpr)\n",
        "plt.plot((0,1), linestyle=\"--\",color='black')\n",
        "plt.show()"
      ],
      "metadata": {
        "id": "9LfyuNO7EQ4m"
      },
      "execution_count": null,
      "outputs": []
    },
    {
      "cell_type": "code",
      "source": [
        "#confusion matrix\n",
        "cm_rf= confusion_matrix(y_test, rf_pred)\n",
        "print(cm_rf)"
      ],
      "metadata": {
        "id": "I-TWOzbhEWuT"
      },
      "execution_count": null,
      "outputs": []
    },
    {
      "cell_type": "code",
      "source": [
        "fig, ax = plot_confusion_matrix(conf_mat=cm_rf, figsize=(3, 3), cmap=plt.cm.Blues)\n",
        "plt.xlabel('Predictions', fontsize=18)\n",
        "plt.ylabel('Actuals', fontsize=18)\n",
        "plt.title('Confusion Matrix', fontsize=18)\n",
        "plt.show()"
      ],
      "metadata": {
        "id": "b2lzOs4uEZQT"
      },
      "execution_count": null,
      "outputs": []
    },
    {
      "cell_type": "code",
      "source": [
        "print(classification_report(rf_pred, y_test))"
      ],
      "metadata": {
        "id": "rX_PKfnaEg1H"
      },
      "execution_count": null,
      "outputs": []
    },
    {
      "cell_type": "code",
      "source": [
        "# features importance\n",
        "\n",
        "plt.figure(figsize=(14,4))\n",
        "feat_importances = pd.Series(rf_model.feature_importances_,index=X_new.columns)\n",
        "feat_importances.nlargest(5).plot(kind='bar')"
      ],
      "metadata": {
        "id": "l5UPYmmHEjnu"
      },
      "execution_count": null,
      "outputs": []
    },
    {
      "cell_type": "markdown",
      "source": [
        "### ML Model - *4*"
      ],
      "metadata": {
        "id": "GsSQvKqFE4Xi"
      }
    },
    {
      "cell_type": "code",
      "source": [
        "# KNN\n",
        "\n",
        "knn_model=KNeighborsClassifier()\n",
        "knn_model=knn_model.fit(X_train,y_train)\n",
        "\n",
        "#Making prediction\n",
        "knn_pred = knn_model.predict(X_test)\n",
        "knn_pred_prob = knn_model.predict_proba(X_test)[:,1]"
      ],
      "metadata": {
        "id": "8uTCR6RwE547"
      },
      "execution_count": null,
      "outputs": []
    },
    {
      "cell_type": "code",
      "source": [
        "# Evaluation\n",
        "RS_knn= recall_score(y_test, knn_pred)\n",
        "print(\"Recall_Score : \", RS_knn)\n",
        "\n",
        "PS_knn= precision_score(y_test, knn_pred)\n",
        "print(\"Precision_Score :\",PS_knn)\n",
        "\n",
        "f1S_knn= f1_score(y_test, knn_pred)\n",
        "print(\"f1_Score :\", f1S_lgt)\n",
        "\n",
        "AS_knn= accuracy_score(y_test, knn_pred)\n",
        "print(\"Accuracy_Score :\",AS_knn)\n",
        "\n",
        "acu_knn = roc_auc_score(y_test, knn_pred)\n",
        "print(\"ROC_AUC Score:\",acu_knn)"
      ],
      "metadata": {
        "id": "rGMG2H3ZE_w5"
      },
      "execution_count": null,
      "outputs": []
    },
    {
      "cell_type": "code",
      "source": [
        "#ROC Curve\n",
        "fpr, tpr, _ = roc_curve(y_test, knn_pred_prob)\n",
        "plt.title('KNN ROC curve')\n",
        "plt.xlabel(\"False Positive Rate\")\n",
        "plt.ylabel(\"True Positive Rate\")\n",
        "plt.plot(fpr,tpr)\n",
        "plt.plot((0,1), linestyle=\"--\",color='black')\n",
        "plt.show()"
      ],
      "metadata": {
        "id": "bo-BEfKEFuPd"
      },
      "execution_count": null,
      "outputs": []
    },
    {
      "cell_type": "code",
      "source": [
        "#confusion matrix\n",
        "cm_knn= confusion_matrix(y_test, knn_pred)\n",
        "print(cm_knn)"
      ],
      "metadata": {
        "id": "rTtI2lZEF4Um"
      },
      "execution_count": null,
      "outputs": []
    },
    {
      "cell_type": "code",
      "source": [
        "fig, ax = plot_confusion_matrix(conf_mat=cm_knn, figsize=(3, 3), cmap=plt.cm.Blues)\n",
        "plt.xlabel('Predictions', fontsize=18)\n",
        "plt.ylabel('Actuals', fontsize=18)\n",
        "plt.title('Confusion Matrix', fontsize=18)\n",
        "plt.show()"
      ],
      "metadata": {
        "id": "yKGCWXgbF6Zo"
      },
      "execution_count": null,
      "outputs": []
    },
    {
      "cell_type": "code",
      "source": [
        "print(classification_report(knn_pred, y_test))"
      ],
      "metadata": {
        "id": "1dmjxealGCKy"
      },
      "execution_count": null,
      "outputs": []
    },
    {
      "cell_type": "code",
      "source": [
        "# Hyperparameter tuning for KNN\n",
        "\n",
        "KNN_tuning = KNeighborsClassifier()\n",
        "param_KNN = {'n_neighbors':[5,7,9],'weights':['uniform','distance'],'p':[2, 1]}\n",
        "model_KNN_tuned = GridSearchCV(estimator = KNN_tuning, param_grid = param_KNN, cv = 3, n_jobs = -1 , verbose = 1, scoring = 'recall')\n",
        "model_KNN_tuned.fit(X_train, y_train)"
      ],
      "metadata": {
        "id": "LUFyICwcGFSw"
      },
      "execution_count": null,
      "outputs": []
    },
    {
      "cell_type": "code",
      "source": [
        "model_KNN_tuned.best_params_"
      ],
      "metadata": {
        "id": "Ywfa4Fhgct5-"
      },
      "execution_count": null,
      "outputs": []
    },
    {
      "cell_type": "code",
      "source": [
        "model_KNN_tuned.best_score_"
      ],
      "metadata": {
        "id": "53jWiAJekVV6"
      },
      "execution_count": null,
      "outputs": []
    },
    {
      "cell_type": "code",
      "source": [
        "# best parameters and prediction\n",
        "\n",
        "KNN_tuned = model_KNN_tuned.best_estimator_\n",
        "y_tuned_KNN = KNN_tuned.predict(X_test)\n",
        "y_tuned_KNN_prob=KNN_tuned.predict_proba(X_test)[:,1]"
      ],
      "metadata": {
        "id": "kriaD1riGRtD"
      },
      "execution_count": null,
      "outputs": []
    },
    {
      "cell_type": "code",
      "source": [
        "# Evaluation\n",
        "RS_knn_tun= recall_score(y_test, y_tuned_KNN )\n",
        "print(\"Recall_Score : \", RS_knn_tun)\n",
        "\n",
        "PS_knn_tun= precision_score(y_test, y_tuned_KNN )\n",
        "print(\"Precision_Score :\",PS_knn_tun)\n",
        "\n",
        "f1S_knn_tun= f1_score(y_test, y_tuned_KNN )\n",
        "print(\"f1_Score :\", f1S_knn_tun)\n",
        "\n",
        "AS_knn_tun= accuracy_score(y_test, y_tuned_KNN )\n",
        "print(\"Accuracy_Score :\",AS_knn_tun)\n",
        "\n",
        "acu_knn_tun = roc_auc_score(y_test, y_tuned_KNN )\n",
        "print(\"ROC_AUC Score:\",acu_knn_tun)"
      ],
      "metadata": {
        "id": "3SAC6JMAMZaE"
      },
      "execution_count": null,
      "outputs": []
    },
    {
      "cell_type": "code",
      "source": [
        "#roc curve\n",
        "fpr, tpr, _ = roc_curve(y_test, y_tuned_KNN_prob)\n",
        "plt.title('KNN ROC curve')\n",
        "plt.xlabel(\"False Positive Rate\")\n",
        "plt.ylabel(\"True Positive Rate\")\n",
        "plt.plot(fpr,tpr)\n",
        "plt.plot((0,1), linestyle=\"--\",color='black')\n",
        "plt.show()"
      ],
      "metadata": {
        "id": "tVP57hG7Mcgy"
      },
      "execution_count": null,
      "outputs": []
    },
    {
      "cell_type": "code",
      "source": [
        "#confusion matrix\n",
        "cm_knn= confusion_matrix(y_test, y_tuned_KNN)\n",
        "print(cm_knn)"
      ],
      "metadata": {
        "id": "04h3YPp-MgLH"
      },
      "execution_count": null,
      "outputs": []
    },
    {
      "cell_type": "code",
      "source": [
        "fig, ax = plot_confusion_matrix(conf_mat=cm_knn, figsize=(3, 3), cmap=plt.cm.Blues)\n",
        "plt.xlabel('Predictions', fontsize=18)\n",
        "plt.ylabel('Actuals', fontsize=18)\n",
        "plt.title('Confusion Matrix', fontsize=18)\n",
        "plt.show()"
      ],
      "metadata": {
        "id": "OfKm6lVhMiAk"
      },
      "execution_count": null,
      "outputs": []
    },
    {
      "cell_type": "code",
      "source": [
        "print(classification_report(y_tuned_KNN, y_test))"
      ],
      "metadata": {
        "id": "zR2lbkyHMm2G"
      },
      "execution_count": null,
      "outputs": []
    },
    {
      "cell_type": "markdown",
      "source": [
        "### ML Model - *4 Gradient Boosting*"
      ],
      "metadata": {
        "id": "XU7aupEJMqj8"
      }
    },
    {
      "cell_type": "code",
      "source": [
        "GB_model=GradientBoostingClassifier(random_state=30)\n",
        "GB_model=GB_model.fit(X_train,y_train)\n",
        "#Making prediction\n",
        "GB_pred = GB_model.predict(X_test)\n",
        "GB_pred_prob = GB_model.predict_proba(X_test)[:,1]"
      ],
      "metadata": {
        "id": "S0J4U0S2MqPc"
      },
      "execution_count": null,
      "outputs": []
    },
    {
      "cell_type": "code",
      "source": [
        "# Evaluation\n",
        "RS_GB= recall_score(y_test, GB_pred)\n",
        "print(\"Recall_Score : \", RS_GB)\n",
        "\n",
        "PS_GB= precision_score(y_test, GB_pred)\n",
        "print(\"Precision_Score :\",PS_GB)\n",
        "\n",
        "f1S_GB= f1_score(y_test, GB_pred)\n",
        "print(\"f1_Score :\", f1S_GB)\n",
        "\n",
        "AS_GB= accuracy_score(y_test, GB_pred)\n",
        "print(\"Accuracy_Score :\",AS_GB)\n",
        "\n",
        "acu_GB = roc_auc_score(y_test, GB_pred)\n",
        "print(\"ROC_AUC Score:\",acu_GB)"
      ],
      "metadata": {
        "id": "XJieymljM6Bc"
      },
      "execution_count": null,
      "outputs": []
    },
    {
      "cell_type": "code",
      "source": [
        "#ROC Curve\n",
        "fpr, tpr, _ = roc_curve(y_test, GB_pred_prob)\n",
        "plt.title('Gradient Boosting ROC curve')\n",
        "plt.xlabel(\"False Positive Rate\")\n",
        "plt.ylabel(\"True Positive Rate\")\n",
        "plt.plot(fpr,tpr)\n",
        "plt.plot((0,1), linestyle=\"--\",color='black')\n",
        "plt.show()"
      ],
      "metadata": {
        "id": "cWeWk5kRM721"
      },
      "execution_count": null,
      "outputs": []
    },
    {
      "cell_type": "code",
      "source": [
        "#Confusion matrix\n",
        "cm_GB= confusion_matrix(y_test, GB_pred)\n",
        "print(cm_GB)"
      ],
      "metadata": {
        "id": "geVvEhVbM9o2"
      },
      "execution_count": null,
      "outputs": []
    },
    {
      "cell_type": "code",
      "source": [
        "fig, ax = plot_confusion_matrix(conf_mat=cm_GB, figsize=(3, 3), cmap=plt.cm.Blues)\n",
        "plt.xlabel('Predictions', fontsize=18)\n",
        "plt.ylabel('Actuals', fontsize=18)\n",
        "plt.title('Confusion Matrix', fontsize=18)\n",
        "plt.show()"
      ],
      "metadata": {
        "id": "ueMCVHN2M_Fc"
      },
      "execution_count": null,
      "outputs": []
    },
    {
      "cell_type": "code",
      "source": [
        "print(classification_report(GB_pred, y_test))"
      ],
      "metadata": {
        "id": "wDZWuIpANCby"
      },
      "execution_count": null,
      "outputs": []
    },
    {
      "cell_type": "code",
      "source": [
        "# result of all model\n",
        "list_of_model = ['Logistic Regression','Decision Tree ','Random Forest','KNN','Gradient Boosting']"
      ],
      "metadata": {
        "id": "6V9sATXDNfue"
      },
      "execution_count": null,
      "outputs": []
    },
    {
      "cell_type": "code",
      "source": [
        "result_list_RS = [RS_lgt,RS_dt,RS_rf,RS_knn,RS_GB]\n",
        "result_list_PS = [PS_lgt,PS_dt,PS_rf,PS_knn,PS_GB]\n",
        "result_list_f1S = [f1S_lgt,f1S_dt,f1S_rf,f1S_knn,f1S_GB]\n",
        "result_list_AS = [AS_lgt,AS_dt,AS_rf,AS_knn,AS_GB]\n",
        "relust_list_Acu=[acu_lgt,acu_dt,acu_rf,acu_knn,acu_GB]"
      ],
      "metadata": {
        "id": "-SbBExyiNh2Q"
      },
      "execution_count": null,
      "outputs": []
    },
    {
      "cell_type": "code",
      "source": [
        "# creating an empty dataframe\n",
        "results_df = pd.DataFrame()"
      ],
      "metadata": {
        "id": "TzHnt8JgN2-6"
      },
      "execution_count": null,
      "outputs": []
    },
    {
      "cell_type": "code",
      "source": [
        "results_df['model_name'] = list_of_model\n",
        "results_df['Recall_Score'] = result_list_RS\n",
        "results_df['Precision_Score'] = result_list_PS\n",
        "results_df['f1_Score'] = result_list_f1S\n",
        "results_df['Accuracy_Score'] = result_list_AS\n",
        "results_df['ROC_AUC Score'] = relust_list_Acu"
      ],
      "metadata": {
        "id": "AtEm1nAhN5WZ"
      },
      "execution_count": null,
      "outputs": []
    },
    {
      "cell_type": "code",
      "source": [
        "results_df.style.hide_index().background_gradient(cmap='RdYlBu_r').format()"
      ],
      "metadata": {
        "id": "1C0f_p-sN7p-"
      },
      "execution_count": null,
      "outputs": []
    },
    {
      "cell_type": "code",
      "source": [
        "# Result of Hyperparameter tunning model\n",
        "\n",
        "list_of_model = ['Logistic Regression','KNN']\n",
        "result_list_RS = [RS_lgt_tun,RS_knn_tun]\n",
        "result_list_PS = [PS_lgt_tun,PS_knn_tun]\n",
        "result_list_f1S = [f1S_lgt_tun,f1S_knn_tun]\n",
        "result_list_AS = [AS_lgt_tun,AS_knn_tun]\n",
        "relust_list_Acu=[acu_lgt_tun,acu_knn_tun]"
      ],
      "metadata": {
        "id": "pSIMFZqJOY0m"
      },
      "execution_count": null,
      "outputs": []
    },
    {
      "cell_type": "code",
      "source": [
        "# creating an empty dataframe\n",
        "results_df = pd.DataFrame()\n",
        "results_df['model_name'] = list_of_model\n",
        "results_df['Recall_Score'] = result_list_RS\n",
        "results_df['Precision_Score'] = result_list_PS\n",
        "results_df['f1_Score'] = result_list_f1S\n",
        "results_df['Accuracy_Score'] = result_list_AS\n",
        "results_df['ROC_AUC Score'] = relust_list_Acu"
      ],
      "metadata": {
        "id": "V_Jxg20UOlJO"
      },
      "execution_count": null,
      "outputs": []
    },
    {
      "cell_type": "code",
      "source": [
        "results_df.style.hide_index().background_gradient(cmap='RdYlBu_r').format()"
      ],
      "metadata": {
        "id": "5wV1XCRNOnQ0"
      },
      "execution_count": null,
      "outputs": []
    },
    {
      "cell_type": "code",
      "source": [
        "#predictions\n",
        "y_pred_test = rf_model.predict(X_test)\n",
        "responce_pred = y_test.copy()\n",
        "responce_pred['rf_pred'] = y_pred_test.tolist()"
      ],
      "metadata": {
        "id": "rZ3Sn_Kg6kAI"
      },
      "execution_count": null,
      "outputs": []
    },
    {
      "cell_type": "code",
      "source": [
        "#head\n",
        "responce_pred.head()"
      ],
      "metadata": {
        "id": "OwRZwUgq7MX7"
      },
      "execution_count": null,
      "outputs": []
    },
    {
      "cell_type": "code",
      "source": [
        "rf_pred"
      ],
      "metadata": {
        "id": "do-Wpq71h-ED"
      },
      "execution_count": null,
      "outputs": []
    },
    {
      "cell_type": "markdown",
      "source": [
        "# **Conclusion**"
      ],
      "metadata": {
        "id": "gCX9965dhzqZ"
      }
    },
    {
      "cell_type": "markdown",
      "source": [
        "After loading our dataset, the first thing we did was look for duplicates and null values. There were no duplicates or null values, thus there was no need to treat them.\n",
        "\n",
        "The gender variable in the dataset is spread nearly evenly. The male category is marginally larger than the female category, and the likelihood of purchasing insurance is also slightly higher. The response rate of those who are not interested in purchasing vehicle insurance is higher than that of those who are interested in buying vehicle insurance.\n",
        "\n",
        "The response rate of those who are not interested in purchasing vehicle insurance is higher than that of those who are not interested in buying vehicle insurance.\n",
        "\n",
        "As vehicle age increases most of the people are aware of insurance and interested to buy the insurance for reducing the risk.\n",
        "\n",
        "By using the inter quartile range, we eliminated outliers and dealt with null data. We split the dataset into train and test splits after feature encoding three columns.\n",
        "\n",
        "Further, we applied 4 machine learning algorithms to see which customers might be interested in purchasing vehicle insurance and we also used hyperparameter tuning for three models to discover which model gives the best results. Vehicle damage and annual premium are the two most significant features seen in decision trees, while vintage and annual premium are seen in random forests. With 93% and 92% ROC AUC scores, Decision Tree and Random Forest outperform all other models.\n",
        "\n"
      ],
      "metadata": {
        "id": "Fjb1IsQkh3yE"
      }
    },
    {
      "cell_type": "markdown",
      "source": [
        "### ***Hurrah! You have successfully completed your Machine Learning Capstone Project !!!***"
      ],
      "metadata": {
        "id": "gIfDvo9L0UH2"
      }
    }
  ]
}